{
 "cells": [
  {
   "cell_type": "code",
   "execution_count": 1,
   "id": "35087959",
   "metadata": {},
   "outputs": [],
   "source": [
    "#Importing the libraries\n",
    "import pandas as pd\n",
    "import numpy as np\n",
    "import matplotlib.pyplot as plt\n",
    "import seaborn as sns\n",
    "from sklearn.model_selection import train_test_split\n",
    "from sklearn.preprocessing import LabelEncoder\n",
    "from sklearn.preprocessing import StandardScaler\n",
    "from sklearn.tree import DecisionTreeClassifier\n",
    "from sklearn.linear_model import LogisticRegression\n",
    "from sklearn.neighbors import KNeighborsClassifier\n",
    "from sklearn.svm import SVC\n",
    "from sklearn.ensemble import RandomForestClassifier,GradientBoostingClassifier"
   ]
  },
  {
   "cell_type": "code",
   "execution_count": 2,
   "id": "5de234e9",
   "metadata": {},
   "outputs": [
    {
     "data": {
      "text/html": [
       "<div>\n",
       "<style scoped>\n",
       "    .dataframe tbody tr th:only-of-type {\n",
       "        vertical-align: middle;\n",
       "    }\n",
       "\n",
       "    .dataframe tbody tr th {\n",
       "        vertical-align: top;\n",
       "    }\n",
       "\n",
       "    .dataframe thead th {\n",
       "        text-align: right;\n",
       "    }\n",
       "</style>\n",
       "<table border=\"1\" class=\"dataframe\">\n",
       "  <thead>\n",
       "    <tr style=\"text-align: right;\">\n",
       "      <th></th>\n",
       "      <th>RowNumber</th>\n",
       "      <th>CustomerId</th>\n",
       "      <th>Surname</th>\n",
       "      <th>CreditScore</th>\n",
       "      <th>Geography</th>\n",
       "      <th>Gender</th>\n",
       "      <th>Age</th>\n",
       "      <th>Tenure</th>\n",
       "      <th>Balance</th>\n",
       "      <th>NumOfProducts</th>\n",
       "      <th>HasCrCard</th>\n",
       "      <th>IsActiveMember</th>\n",
       "      <th>EstimatedSalary</th>\n",
       "      <th>Exited</th>\n",
       "    </tr>\n",
       "  </thead>\n",
       "  <tbody>\n",
       "    <tr>\n",
       "      <th>0</th>\n",
       "      <td>1</td>\n",
       "      <td>15634602</td>\n",
       "      <td>Hargrave</td>\n",
       "      <td>619</td>\n",
       "      <td>France</td>\n",
       "      <td>Female</td>\n",
       "      <td>42</td>\n",
       "      <td>2</td>\n",
       "      <td>0.00</td>\n",
       "      <td>1</td>\n",
       "      <td>1</td>\n",
       "      <td>1</td>\n",
       "      <td>101348.88</td>\n",
       "      <td>1</td>\n",
       "    </tr>\n",
       "    <tr>\n",
       "      <th>1</th>\n",
       "      <td>2</td>\n",
       "      <td>15647311</td>\n",
       "      <td>Hill</td>\n",
       "      <td>608</td>\n",
       "      <td>Spain</td>\n",
       "      <td>Female</td>\n",
       "      <td>41</td>\n",
       "      <td>1</td>\n",
       "      <td>83807.86</td>\n",
       "      <td>1</td>\n",
       "      <td>0</td>\n",
       "      <td>1</td>\n",
       "      <td>112542.58</td>\n",
       "      <td>0</td>\n",
       "    </tr>\n",
       "    <tr>\n",
       "      <th>2</th>\n",
       "      <td>3</td>\n",
       "      <td>15619304</td>\n",
       "      <td>Onio</td>\n",
       "      <td>502</td>\n",
       "      <td>France</td>\n",
       "      <td>Female</td>\n",
       "      <td>42</td>\n",
       "      <td>8</td>\n",
       "      <td>159660.80</td>\n",
       "      <td>3</td>\n",
       "      <td>1</td>\n",
       "      <td>0</td>\n",
       "      <td>113931.57</td>\n",
       "      <td>1</td>\n",
       "    </tr>\n",
       "    <tr>\n",
       "      <th>3</th>\n",
       "      <td>4</td>\n",
       "      <td>15701354</td>\n",
       "      <td>Boni</td>\n",
       "      <td>699</td>\n",
       "      <td>France</td>\n",
       "      <td>Female</td>\n",
       "      <td>39</td>\n",
       "      <td>1</td>\n",
       "      <td>0.00</td>\n",
       "      <td>2</td>\n",
       "      <td>0</td>\n",
       "      <td>0</td>\n",
       "      <td>93826.63</td>\n",
       "      <td>0</td>\n",
       "    </tr>\n",
       "    <tr>\n",
       "      <th>4</th>\n",
       "      <td>5</td>\n",
       "      <td>15737888</td>\n",
       "      <td>Mitchell</td>\n",
       "      <td>850</td>\n",
       "      <td>Spain</td>\n",
       "      <td>Female</td>\n",
       "      <td>43</td>\n",
       "      <td>2</td>\n",
       "      <td>125510.82</td>\n",
       "      <td>1</td>\n",
       "      <td>1</td>\n",
       "      <td>1</td>\n",
       "      <td>79084.10</td>\n",
       "      <td>0</td>\n",
       "    </tr>\n",
       "  </tbody>\n",
       "</table>\n",
       "</div>"
      ],
      "text/plain": [
       "   RowNumber  CustomerId   Surname  CreditScore Geography  Gender  Age  \\\n",
       "0          1    15634602  Hargrave          619    France  Female   42   \n",
       "1          2    15647311      Hill          608     Spain  Female   41   \n",
       "2          3    15619304      Onio          502    France  Female   42   \n",
       "3          4    15701354      Boni          699    France  Female   39   \n",
       "4          5    15737888  Mitchell          850     Spain  Female   43   \n",
       "\n",
       "   Tenure    Balance  NumOfProducts  HasCrCard  IsActiveMember  \\\n",
       "0       2       0.00              1          1               1   \n",
       "1       1   83807.86              1          0               1   \n",
       "2       8  159660.80              3          1               0   \n",
       "3       1       0.00              2          0               0   \n",
       "4       2  125510.82              1          1               1   \n",
       "\n",
       "   EstimatedSalary  Exited  \n",
       "0        101348.88       1  \n",
       "1        112542.58       0  \n",
       "2        113931.57       1  \n",
       "3         93826.63       0  \n",
       "4         79084.10       0  "
      ]
     },
     "execution_count": 2,
     "metadata": {},
     "output_type": "execute_result"
    }
   ],
   "source": [
    "#Loading the file\n",
    "data=pd.read_csv(\"Data.csv\")\n",
    "#Displaying the dataset \n",
    "data.head()"
   ]
  },
  {
   "cell_type": "code",
   "execution_count": 3,
   "id": "84882000",
   "metadata": {},
   "outputs": [],
   "source": [
    "#Removing the columns\n",
    "data=data.drop([\"RowNumber\",\"CustomerId\",\"Surname\"],axis=1)"
   ]
  },
  {
   "cell_type": "code",
   "execution_count": 4,
   "id": "2be7fa63",
   "metadata": {},
   "outputs": [],
   "source": [
    "#Converting the categorical variables into indicator variables\n",
    "data=pd.get_dummies(data,drop_first=True)"
   ]
  },
  {
   "cell_type": "code",
   "execution_count": 5,
   "id": "0ac12bd8",
   "metadata": {},
   "outputs": [
    {
     "data": {
      "image/png": "[encoded data removed]",
      "text/plain": [
       "<Figure size 800x600 with 1 Axes>"
      ]
     },
     "metadata": {},
     "output_type": "display_data"
    }
   ],
   "source": [
    "#Counting the occurrence of each exited user\n",
    "exited_count=data[\"Exited\"].value_counts()\n",
    "#Displaying the exited distribution\n",
    "plt.figure(figsize=(8,6))\n",
    "ax=sns.countplot(x=\"Exited\",data=data)\n",
    "plt.title(\"Exited Distribution Plot\")\n",
    "for i,count in enumerate(exited_count):\n",
    "    plt.text(i,count,str(count),horizontalalignment=\"center\",verticalalignment=\"bottom\")\n",
    "plt.show()"
   ]
  },
  {
   "cell_type": "code",
   "execution_count": 6,
   "id": "5007013c",
   "metadata": {},
   "outputs": [],
   "source": [
    "#Splitting the dataset \n",
    "train,test=train_test_split(data,test_size=0.2)"
   ]
  },
  {
   "cell_type": "code",
   "execution_count": 7,
   "id": "75034359",
   "metadata": {},
   "outputs": [],
   "source": [
    "#Extracting the feature and target variable for the training dataset\n",
    "train_x=train.drop(\"Exited\",axis=1)\n",
    "train_y=train[\"Exited\"]\n",
    "#Extracting the feature and target variable for the testing dataset\n",
    "test_x=test.drop(\"Exited\",axis=1)\n",
    "test_y=test[\"Exited\"]"
   ]
  },
  {
   "cell_type": "code",
   "execution_count": 8,
   "id": "f557fccf",
   "metadata": {},
   "outputs": [],
   "source": [
    "#Standardizing the feature\n",
    "scaler=StandardScaler()\n",
    "#Scaling the training feature\n",
    "train_x_scaled=scaler.fit_transform(train_x)\n",
    "#Scaling the testing feature \n",
    "test_x_scaled=scaler.transform(test_x)"
   ]
  },
  {
   "cell_type": "code",
   "execution_count": 9,
   "id": "6410b8d8",
   "metadata": {},
   "outputs": [],
   "source": [
    "#Setting threshold value\n",
    "threshold=0.5\n",
    "#Classifying the labels based on threshold\n",
    "y_train_classified=[1 if value>threshold else 0 for value in train_y]\n",
    "y_test_classified=[1 if value>threshold else 0 for value in test_y]"
   ]
  },
  {
   "cell_type": "code",
   "execution_count": 10,
   "id": "d194cb4e",
   "metadata": {},
   "outputs": [
    {
     "name": "stdout",
     "output_type": "stream",
     "text": [
      "Testing Accuracy: 78.45%\n"
     ]
    }
   ],
   "source": [
    "#Building the decision tree classifier model\n",
    "model_1=DecisionTreeClassifier()\n",
    "model_1.fit(train_x_scaled,y_train_classified)\n",
    "#Displaying the testing accuracy\n",
    "test_accuracy=(100*(model_1.score(test_x_scaled,y_test_classified)))\n",
    "print(f\"Testing Accuracy:{test_accuracy:6.2f}%\")"
   ]
  },
  {
   "cell_type": "code",
   "execution_count": 11,
   "id": "4c25db22",
   "metadata": {
    "scrolled": true
   },
   "outputs": [
    {
     "name": "stdout",
     "output_type": "stream",
     "text": [
      "Testing Accuracy: 80.55%\n"
     ]
    }
   ],
   "source": [
    "#Building the logistic regression classifier model\n",
    "model_2=LogisticRegression()\n",
    "model_2.fit(train_x_scaled,y_train_classified)\n",
    "#Displaying the testing accuracy\n",
    "test_accuracy=(100*(model_2.score(test_x_scaled,y_test_classified)))\n",
    "print(f\"Testing Accuracy:{test_accuracy:6.2f}%\")"
   ]
  },
  {
   "cell_type": "code",
   "execution_count": 12,
   "id": "577f92e4",
   "metadata": {},
   "outputs": [
    {
     "name": "stdout",
     "output_type": "stream",
     "text": [
      "Testing Accuracy: 81.90%\n"
     ]
    }
   ],
   "source": [
    "#Building the k-nearest neighbors classifier model\n",
    "model_3=KNeighborsClassifier()\n",
    "model_3.fit(train_x_scaled,y_train_classified)\n",
    "#Displaying the testing accuracy\n",
    "test_accuracy=(100*(model_3.score(test_x_scaled,y_test_classified)))\n",
    "print(f\"Testing Accuracy:{test_accuracy:6.2f}%\")"
   ]
  },
  {
   "cell_type": "code",
   "execution_count": 13,
   "id": "cc598133",
   "metadata": {},
   "outputs": [
    {
     "name": "stdout",
     "output_type": "stream",
     "text": [
      "Testing Accuracy: 84.95%\n"
     ]
    }
   ],
   "source": [
    "#Building the support vector classifier model\n",
    "model_4=SVC()\n",
    "model_4.fit(train_x_scaled,y_train_classified)\n",
    "#Displaying the testing accuracy\n",
    "test_accuracy=(100*(model_4.score(test_x_scaled,y_test_classified)))\n",
    "print(f\"Testing Accuracy:{test_accuracy:6.2f}%\")"
   ]
  },
  {
   "cell_type": "code",
   "execution_count": 14,
   "id": "4dab817e",
   "metadata": {},
   "outputs": [
    {
     "name": "stdout",
     "output_type": "stream",
     "text": [
      "Testing Accuracy: 85.20%\n"
     ]
    }
   ],
   "source": [
    "#Building the random tree classifier model\n",
    "model_5=RandomForestClassifier()\n",
    "model_5.fit(train_x_scaled,y_train_classified)\n",
    "#Displaying the testing accuracy\n",
    "test_accuracy=(100*(model_5.score(test_x_scaled,y_test_classified)))\n",
    "print(f\"Testing Accuracy:{test_accuracy:6.2f}%\")"
   ]
  },
  {
   "cell_type": "code",
   "execution_count": 15,
   "id": "9e34cb52",
   "metadata": {},
   "outputs": [
    {
     "name": "stdout",
     "output_type": "stream",
     "text": [
      "Testing Accuracy: 86.30%\n"
     ]
    }
   ],
   "source": [
    "#Building the gradient boosting classifier model\n",
    "model_6=GradientBoostingClassifier()\n",
    "model_6.fit(train_x_scaled,y_train_classified)\n",
    "#Displaying the testing accuracy\n",
    "test_accuracy=(100*(model_6.score(test_x_scaled,y_test_classified)))\n",
    "print(f\"Testing Accuracy:{test_accuracy:6.2f}%\")"
   ]
  }
 ],
 "metadata": {
  "kernelspec": {
   "display_name": "Python 3 (ipykernel)",
   "language": "python",
   "name": "python3"
  },
  "language_info": {
   "codemirror_mode": {
    "name": "ipython",
    "version": 3
   },
   "file_extension": ".py",
   "mimetype": "text/x-python",
   "name": "python",
   "nbconvert_exporter": "python",
   "pygments_lexer": "ipython3",
   "version": "3.11.5"
  }
 },
 "nbformat": 4,
 "nbformat_minor": 5
}
